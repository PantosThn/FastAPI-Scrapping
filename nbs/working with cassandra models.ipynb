{
 "cells": [
  {
   "cell_type": "code",
   "execution_count": 1,
   "id": "d237111e",
   "metadata": {},
   "outputs": [
    {
     "name": "stdout",
     "output_type": "stream",
     "text": [
      "/home/thanos/dev/fastp-api-nosql-scrape\n"
     ]
    }
   ],
   "source": [
    "cd /home/thanos/dev/fastp-api-nosql-scrape"
   ]
  },
  {
   "cell_type": "code",
   "execution_count": 3,
   "id": "e389c43c",
   "metadata": {},
   "outputs": [],
   "source": [
    "from app import db, crud, models"
   ]
  },
  {
   "cell_type": "code",
   "execution_count": 4,
   "id": "eb419547",
   "metadata": {},
   "outputs": [],
   "source": [
    "session = db.get_session()"
   ]
  },
  {
   "cell_type": "code",
   "execution_count": 5,
   "id": "741ff27c",
   "metadata": {},
   "outputs": [
    {
     "data": {
      "text/plain": [
       "{'asin': 'AMZNIDNUMBERd', 'title': 'Mark 1adsf'}"
      ]
     },
     "execution_count": 5,
     "metadata": {},
     "output_type": "execute_result"
    }
   ],
   "source": [
    "data = models.data\n",
    "data"
   ]
  },
  {
   "cell_type": "code",
   "execution_count": 6,
   "id": "6697fa8a",
   "metadata": {},
   "outputs": [
    {
     "data": {
      "text/plain": [
       "(Product(asin='AMZNIDNUMBERd', title='Mark 1adsf'),\n",
       " ProductScrapeEvent(uuid=UUID('18c71b16-5f69-11ed-96de-cb80bb641565'), asin='AMZNIDNUMBERd', title='Mark 1adsf', price_str='-100'))"
      ]
     },
     "execution_count": 6,
     "metadata": {},
     "output_type": "execute_result"
    }
   ],
   "source": [
    "crud.add_scrape_event(data, fresh=True)"
   ]
  },
  {
   "cell_type": "code",
   "execution_count": null,
   "id": "d7b227ac",
   "metadata": {},
   "outputs": [],
   "source": []
  }
 ],
 "metadata": {
  "kernelspec": {
   "display_name": "Python 3 (ipykernel)",
   "language": "python",
   "name": "python3"
  },
  "language_info": {
   "codemirror_mode": {
    "name": "ipython",
    "version": 3
   },
   "file_extension": ".py",
   "mimetype": "text/x-python",
   "name": "python",
   "nbconvert_exporter": "python",
   "pygments_lexer": "ipython3",
   "version": "3.10.6"
  },
  "vscode": {
   "interpreter": {
    "hash": "fbd16f4d97ad462b4a1a1c5564deff263709600087230c5005db06743280f14c"
   }
  }
 },
 "nbformat": 4,
 "nbformat_minor": 5
}
