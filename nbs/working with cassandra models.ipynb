{
 "cells": [
  {
   "cell_type": "code",
   "execution_count": 1,
   "id": "d237111e",
   "metadata": {},
   "outputs": [
    {
     "name": "stdout",
     "output_type": "stream",
     "text": [
      "/home/thanos/dev/fastp-api-nosql-scrape\n"
     ]
    }
   ],
   "source": [
    "cd /home/thanos/dev/fastp-api-nosql-scrape"
   ]
  },
  {
   "cell_type": "code",
   "execution_count": 2,
   "id": "e389c43c",
   "metadata": {},
   "outputs": [],
   "source": [
    "from app import crud, models"
   ]
  },
  {
   "cell_type": "code",
   "execution_count": 3,
   "id": "eb419547",
   "metadata": {},
   "outputs": [
    {
     "data": {
      "text/plain": [
       "{'asin': 'AMZNIDNUMBERd', 'title': 'Mark 1adsf'}"
      ]
     },
     "execution_count": 3,
     "metadata": {},
     "output_type": "execute_result"
    }
   ],
   "source": [
    "data = models.data\n",
    "data"
   ]
  },
  {
   "cell_type": "code",
   "execution_count": 6,
   "id": "6697fa8a",
   "metadata": {},
   "outputs": [
    {
     "ename": "ValidationError",
     "evalue": "Incorrect columns passed: {'uuid'}",
     "output_type": "error",
     "traceback": [
      "\u001b[0;31m---------------------------------------------------------------------------\u001b[0m",
      "\u001b[0;31mValidationError\u001b[0m                           Traceback (most recent call last)",
      "Cell \u001b[0;32mIn [6], line 1\u001b[0m\n\u001b[0;32m----> 1\u001b[0m crud\u001b[39m.\u001b[39;49madd_scrape_event(data)\n",
      "File \u001b[0;32m~/dev/fastp-api-nosql-scrape/app/crud.py:17\u001b[0m, in \u001b[0;36madd_scrape_event\u001b[0;34m(data)\u001b[0m\n\u001b[1;32m     14\u001b[0m     data[\u001b[39m'\u001b[39m\u001b[39muuid\u001b[39m\u001b[39m'\u001b[39m] \u001b[39m=\u001b[39m uuid\u001b[39m.\u001b[39muuid1() \u001b[39m# includes a timestamp\u001b[39;00m\n\u001b[1;32m     15\u001b[0m     \u001b[39mreturn\u001b[39;00m ProductScrapeEvent\u001b[39m.\u001b[39mcreate(\u001b[39m*\u001b[39m\u001b[39m*\u001b[39mdata)\n\u001b[0;32m---> 17\u001b[0m \u001b[39mdef\u001b[39;00m \u001b[39madd_scrape_event\u001b[39m(data:\u001b[39mdict\u001b[39m):\n\u001b[1;32m     18\u001b[0m     product \u001b[39m=\u001b[39m create_entry(data)\n\u001b[1;32m     19\u001b[0m     scrape_ojb \u001b[39m=\u001b[39m create_scrape_entry(data)\n",
      "File \u001b[0;32m~/dev/fastp-api-nosql-scrape/app/crud.py:10\u001b[0m, in \u001b[0;36mcreate_entry\u001b[0;34m(data)\u001b[0m\n\u001b[1;32m      7\u001b[0m sync_table(Product)\n\u001b[1;32m      8\u001b[0m sync_table(ProductScrapeEvent)\n\u001b[0;32m---> 10\u001b[0m \u001b[39mdef\u001b[39;00m \u001b[39mcreate_entry\u001b[39m(data:\u001b[39mdict\u001b[39m):\n\u001b[1;32m     11\u001b[0m     \u001b[39mreturn\u001b[39;00m Product\u001b[39m.\u001b[39mcreate(\u001b[39m*\u001b[39m\u001b[39m*\u001b[39mdata)\n\u001b[1;32m     13\u001b[0m \u001b[39mdef\u001b[39;00m \u001b[39mcreate_scrape_entry\u001b[39m(data:\u001b[39mdict\u001b[39m):\n",
      "File \u001b[0;32m~/dev/fastp-api-nosql-scrape/venv/lib/python3.10/site-packages/cassandra/cqlengine/models.py:672\u001b[0m, in \u001b[0;36mBaseModel.create\u001b[0;34m(cls, **kwargs)\u001b[0m\n\u001b[1;32m    670\u001b[0m extra_columns \u001b[39m=\u001b[39m \u001b[39mset\u001b[39m(kwargs\u001b[39m.\u001b[39mkeys()) \u001b[39m-\u001b[39m \u001b[39mset\u001b[39m(\u001b[39mcls\u001b[39m\u001b[39m.\u001b[39m_columns\u001b[39m.\u001b[39mkeys())\n\u001b[1;32m    671\u001b[0m \u001b[39mif\u001b[39;00m extra_columns:\n\u001b[0;32m--> 672\u001b[0m     \u001b[39mraise\u001b[39;00m ValidationError(\u001b[39m\"\u001b[39m\u001b[39mIncorrect columns passed: \u001b[39m\u001b[39m{0}\u001b[39;00m\u001b[39m\"\u001b[39m\u001b[39m.\u001b[39mformat(extra_columns))\n\u001b[1;32m    673\u001b[0m \u001b[39mreturn\u001b[39;00m \u001b[39mcls\u001b[39m\u001b[39m.\u001b[39mobjects\u001b[39m.\u001b[39mcreate(\u001b[39m*\u001b[39m\u001b[39m*\u001b[39mkwargs)\n",
      "\u001b[0;31mValidationError\u001b[0m: Incorrect columns passed: {'uuid'}"
     ]
    }
   ],
   "source": [
    "crud.add_scrape_event(data, fresh=True)"
   ]
  },
  {
   "cell_type": "code",
   "execution_count": null,
   "id": "d7b227ac",
   "metadata": {},
   "outputs": [],
   "source": []
  }
 ],
 "metadata": {
  "kernelspec": {
   "display_name": "Python 3.10.6 ('venv': venv)",
   "language": "python",
   "name": "python3"
  },
  "language_info": {
   "codemirror_mode": {
    "name": "ipython",
    "version": 3
   },
   "file_extension": ".py",
   "mimetype": "text/x-python",
   "name": "python",
   "nbconvert_exporter": "python",
   "pygments_lexer": "ipython3",
   "version": "3.10.6"
  },
  "vscode": {
   "interpreter": {
    "hash": "fbd16f4d97ad462b4a1a1c5564deff263709600087230c5005db06743280f14c"
   }
  }
 },
 "nbformat": 4,
 "nbformat_minor": 5
}
